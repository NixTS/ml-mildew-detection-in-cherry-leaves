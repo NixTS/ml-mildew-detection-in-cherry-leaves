{
 "cells": [
  {
   "cell_type": "markdown",
   "metadata": {},
   "source": [
    "# PP5 - Mildew Detection in CHerry Leaves"
   ]
  },
  {
   "cell_type": "markdown",
   "metadata": {},
   "source": [
    "## Notebook 2 - Data Visualization"
   ]
  },
  {
   "cell_type": "markdown",
   "metadata": {},
   "source": [
    "### Objectives\n",
    "\n",
    "* Fetch data from kaggle and prepare data for further processes.\n",
    "\n",
    "\n",
    "### Inputs\n",
    "\n",
    "* Dataset: [Kaggle](https://www.kaggle.com/datasets/codeinstitute/cherry-leaves/data)\n",
    "\n",
    "| **input**       |          |        |\n",
    "|-----------------|----------|--------|\n",
    "| **train/**      | healthy  | mildew |\n",
    "| **test/**       | healthy  | mildew |\n",
    "| **validation/** | healthy  | mildew |\n",
    "\n",
    "\n",
    "### Outputs\n",
    "- Data/Image visualization\n",
    "- outputs/{version}\n"
   ]
  },
  {
   "cell_type": "markdown",
   "metadata": {},
   "source": [
    "---"
   ]
  },
  {
   "cell_type": "markdown",
   "metadata": {},
   "source": [
    "## Preparation"
   ]
  },
  {
   "cell_type": "markdown",
   "metadata": {},
   "source": [
    "### Manage Directories"
   ]
  },
  {
   "cell_type": "markdown",
   "metadata": {},
   "source": [
    "**Change working directory**"
   ]
  },
  {
   "cell_type": "code",
   "execution_count": 1,
   "metadata": {},
   "outputs": [
    {
     "data": {
      "text/plain": [
       "'/workspace/ml-mildew-detection-in-cherry-leaves/jupyter_notebooks'"
      ]
     },
     "execution_count": 1,
     "metadata": {},
     "output_type": "execute_result"
    }
   ],
   "source": [
    "import os\n",
    "current_dir = os.getcwd()\n",
    "current_dir"
   ]
  },
  {
   "cell_type": "code",
   "execution_count": 2,
   "metadata": {},
   "outputs": [
    {
     "name": "stdout",
     "output_type": "stream",
     "text": [
      "You set a new current directory\n"
     ]
    }
   ],
   "source": [
    "os.chdir('/workspace/ml-mildew-detection-in-cherry-leaves')\n",
    "print(\"You set a new current directory\")"
   ]
  },
  {
   "cell_type": "code",
   "execution_count": 3,
   "metadata": {},
   "outputs": [
    {
     "data": {
      "text/plain": [
       "'/workspace/ml-mildew-detection-in-cherry-leaves'"
      ]
     },
     "execution_count": 3,
     "metadata": {},
     "output_type": "execute_result"
    }
   ],
   "source": [
    "current_dir = os.getcwd()\n",
    "current_dir"
   ]
  },
  {
   "cell_type": "markdown",
   "metadata": {},
   "source": [
    "**Set Input Directory**"
   ]
  },
  {
   "cell_type": "code",
   "execution_count": 4,
   "metadata": {},
   "outputs": [
    {
     "name": "stdout",
     "output_type": "stream",
     "text": [
      "Train Set Path: input/cherry-leaves/train\n",
      "Validation Set Path: input/cherry-leaves/validation\n",
      "Test Set Path: input/cherry-leaves/test\n"
     ]
    }
   ],
   "source": [
    "data_dir= 'input/cherry-leaves'\n",
    "train_path = data_dir + '/train'\n",
    "val_path = data_dir + '/validation'\n",
    "test_path = data_dir + '/test'\n",
    "print(f\"Train Set Path: {train_path}\")\n",
    "print(f\"Validation Set Path: {val_path}\")\n",
    "print(f\"Test Set Path: {test_path}\")"
   ]
  },
  {
   "cell_type": "markdown",
   "metadata": {},
   "source": [
    "**Set Output Directory**"
   ]
  },
  {
   "cell_type": "code",
   "execution_count": 5,
   "metadata": {},
   "outputs": [],
   "source": [
    "version = 'v1'"
   ]
  },
  {
   "cell_type": "code",
   "execution_count": 6,
   "metadata": {},
   "outputs": [
    {
     "name": "stdout",
     "output_type": "stream",
     "text": [
      "Old version is already available create a new version.\n",
      "outputs/v1\n"
     ]
    }
   ],
   "source": [
    "file_path = f'outputs/{version}'\n",
    "\n",
    "if 'outputs' in os.listdir(current_dir) and version in os.listdir(current_dir + '/outputs'):\n",
    "    print('Old version is already available create a new version.')\n",
    "    pass\n",
    "else:\n",
    "    os.makedirs(name=file_path)\n",
    "\n",
    "print(file_path)"
   ]
  },
  {
   "cell_type": "markdown",
   "metadata": {},
   "source": [
    "**Set Label Names**"
   ]
  },
  {
   "cell_type": "code",
   "execution_count": 7,
   "metadata": {},
   "outputs": [
    {
     "name": "stdout",
     "output_type": "stream",
     "text": [
      "Label for the images are ['healthy', 'mildew']\n"
     ]
    }
   ],
   "source": [
    "labels = os.listdir(train_path)\n",
    "print('Label for the images are', labels)"
   ]
  },
  {
   "cell_type": "markdown",
   "metadata": {},
   "source": [
    "---"
   ]
  },
  {
   "cell_type": "markdown",
   "metadata": {},
   "source": [
    "## Data visualisation of Image Data"
   ]
  },
  {
   "cell_type": "markdown",
   "metadata": {},
   "source": [
    "**Import Libraries**"
   ]
  },
  {
   "cell_type": "code",
   "execution_count": 8,
   "metadata": {},
   "outputs": [],
   "source": [
    "import os\n",
    "import pandas as pd\n",
    "import numpy as np\n",
    "import matplotlib.pyplot as plt\n",
    "import seaborn as sns\n",
    "import joblib\n",
    "sns.set_style(\"white\")\n",
    "from matplotlib.image import imread"
   ]
  },
  {
   "cell_type": "markdown",
   "metadata": {},
   "source": [
    "**Get current Image Shape**"
   ]
  },
  {
   "cell_type": "code",
   "execution_count": 9,
   "metadata": {},
   "outputs": [],
   "source": [
    "img_height, img_width = [], []\n",
    "\n",
    "for label in labels:\n",
    "    for image_filename in os.listdir(os.path.join(train_path, label)):\n",
    "        img = imread(os.path.join(train_path, label, image_filename))\n",
    "        d1, d2, colors = img.shape\n",
    "        img_height.append(d1)\n",
    "        img_width.append(d2)\n"
   ]
  },
  {
   "cell_type": "code",
   "execution_count": 10,
   "metadata": {},
   "outputs": [],
   "source": [
    "img_height_mean = int(np.array(img_height).mean())\n",
    "img_width_mean = int(np.array(img_width).mean())"
   ]
  },
  {
   "cell_type": "code",
   "execution_count": 11,
   "metadata": {},
   "outputs": [
    {
     "data": {
      "image/png": "[encoded data removed]",
      "text/plain": [
       "<Figure size 600x600 with 1 Axes>"
      ]
     },
     "metadata": {},
     "output_type": "display_data"
    },
    {
     "name": "stdout",
     "output_type": "stream",
     "text": [
      "Image Width average: 256 \n",
      "Image Height average: 256\n"
     ]
    }
   ],
   "source": [
    "sns.set_style(\"white\")\n",
    "fig, axes = plt.subplots(figsize=(6, 6))\n",
    "sns.scatterplot(x=img_width, y=img_height, alpha=0.3, color='green', marker='D')\n",
    "axes.set_xlabel(\"Width (pixels)\", fontsize=10)\n",
    "axes.set_ylabel(\"Height (pixels)\", fontsize=10)\n",
    "axes.axvline(x=img_height_mean, color='blue', linestyle=':')\n",
    "axes.axhline(y=img_width_mean, color='blue', linestyle=':')\n",
    "plt.title(\"Average Image Size\", fontsize=16)\n",
    "plt.grid(True, linestyle='--', alpha=0.8)\n",
    "plt.show()\n",
    "\n",
    "print(f\"Image Width average: {img_width_mean} \\nImage Height average: {img_height_mean}\")"
   ]
  },
  {
   "cell_type": "code",
   "execution_count": 12,
   "metadata": {},
   "outputs": [
    {
     "data": {
      "text/plain": [
       "(256, 256, 3)"
      ]
     },
     "execution_count": 12,
     "metadata": {},
     "output_type": "execute_result"
    }
   ],
   "source": [
    "num_color_channels = 3\n",
    "image_shape = (img_height_mean, img_width_mean, num_color_channels)\n",
    "image_shape"
   ]
  },
  {
   "cell_type": "markdown",
   "metadata": {},
   "source": [
    "**Save image shape for further usage**"
   ]
  },
  {
   "cell_type": "code",
   "execution_count": 13,
   "metadata": {},
   "outputs": [
    {
     "data": {
      "text/plain": [
       "['outputs/v1/avg_image_shape_train.pkl']"
      ]
     },
     "execution_count": 13,
     "metadata": {},
     "output_type": "execute_result"
    }
   ],
   "source": [
    "joblib.dump(value=image_shape, filename=f\"{file_path}/avg_image_shape_train.pkl\")"
   ]
  }
 ],
 "metadata": {
  "kernelspec": {
   "display_name": "Python 3",
   "language": "python",
   "name": "python3"
  },
  "language_info": {
   "codemirror_mode": {
    "name": "ipython",
    "version": 3
   },
   "file_extension": ".py",
   "mimetype": "text/x-python",
   "name": "python",
   "nbconvert_exporter": "python",
   "pygments_lexer": "ipython3",
   "version": "3.10.12"
  }
 },
 "nbformat": 4,
 "nbformat_minor": 2
}
